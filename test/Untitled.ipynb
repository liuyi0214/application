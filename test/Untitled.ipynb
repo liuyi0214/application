{
 "cells": [
  {
   "cell_type": "code",
   "execution_count": 6,
   "metadata": {},
   "outputs": [
    {
     "name": "stdout",
     "output_type": "stream",
     "text": [
      "2222\n",
      "<__main__.MyClass object at 0x7ff5f442a588> 140694341723528\n",
      "<__main__.MyClass object at 0x7ff5f442a588> 140694341723528\n",
      "2222\n",
      "<__main__.Singleton object at 0x7ff5f449bf60> 140694342188896\n",
      "<__main__.Singleton object at 0x7ff5f449bf60> 140694342188896\n"
     ]
    }
   ],
   "source": [
    "#单例模式\n",
    "#例子1\n",
    "class Singleton(object):\n",
    "    def __new__(cls, *args, **kw):\n",
    "        if not hasattr(cls, '_instance'):\n",
    "            orig = super(Singleton, cls)\n",
    "            cls._instance = orig.__new__(cls, *args, **kw)\n",
    "        return cls._instance\n",
    "\n",
    "class MyClass(Singleton):\n",
    "    a = 1\n",
    "\n",
    "a1 = MyClass()\n",
    "b1 = MyClass()\n",
    "print(a1,id(a1))\n",
    "print(b1,id(b1))\n",
    "c1 = Singleton()\n",
    "d1 = Singleton()\n",
    "print(c1,id(c1))\n",
    "print(d1,id(d1))"
   ]
  },
  {
   "cell_type": "code",
   "execution_count": 9,
   "metadata": {},
   "outputs": [
    {
     "name": "stdout",
     "output_type": "stream",
     "text": [
      "<__main__.SingleClass object at 0x7ff5f4480898>\n",
      "<__main__.SingleClass object at 0x7ff5f4480898>\n",
      "<__main__.SingleClass object at 0x7ff5f4480898> 140694342076568\n",
      "<__main__.SingleClass object at 0x7ff5f4480898> 140694342076568\n"
     ]
    }
   ],
   "source": [
    "class SingleClass():\n",
    "    def __new__(cls,*args,**kwargs):\n",
    "        if not hasattr(cls,'_instance'):\n",
    "            cls._instance = super(SingleClass,cls).__new__(cls,*args,**kwargs)\n",
    "        return cls._instance\n",
    "        \n",
    "a2 = SingleClass()\n",
    "a3 = SingleClass()\n",
    "print(a2,id(a2))\n",
    "print(a3,id(a3))"
   ]
  },
  {
   "cell_type": "code",
   "execution_count": 24,
   "metadata": {},
   "outputs": [
    {
     "name": "stdout",
     "output_type": "stream",
     "text": [
      "8\n"
     ]
    }
   ],
   "source": [
    "fib = lambda n: n if n <= 2 else fib(n - 1) + fib(n - 2)\n",
    "print(fib(5))"
   ]
  },
  {
   "cell_type": "code",
   "execution_count": 23,
   "metadata": {},
   "outputs": [
    {
     "name": "stdout",
     "output_type": "stream",
     "text": [
      "8\n"
     ]
    }
   ],
   "source": [
    "def fib(n):\n",
    "    a, b = 0, 1\n",
    "    for _ in range(n):\n",
    "        a, b = b, a + b\n",
    "    return b\n",
    "print(fib(5))\n"
   ]
  },
  {
   "cell_type": "code",
   "execution_count": 25,
   "metadata": {},
   "outputs": [
    {
     "name": "stdout",
     "output_type": "stream",
     "text": [
      "8\n"
     ]
    }
   ],
   "source": [
    "def funa(n):\n",
    "    if n < 2:\n",
    "        return 1\n",
    "    return funa(n-1) + funa(n-2)\n",
    "print(funa(5))\n"
   ]
  },
  {
   "cell_type": "code",
   "execution_count": 27,
   "metadata": {},
   "outputs": [
    {
     "name": "stdout",
     "output_type": "stream",
     "text": [
      "5\n"
     ]
    }
   ],
   "source": [
    "fi = lambda n :n if n < 2 else fi(n-1) + fi(n-2)\n",
    "print(fi(5))"
   ]
  },
  {
   "cell_type": "code",
   "execution_count": 28,
   "metadata": {},
   "outputs": [
    {
     "name": "stdout",
     "output_type": "stream",
     "text": [
      "16\n"
     ]
    }
   ],
   "source": [
    "fis = lambda n : n if n < 2 else 2 * fis(n - 1)\n",
    "print(fis(5))"
   ]
  },
  {
   "cell_type": "code",
   "execution_count": 30,
   "metadata": {},
   "outputs": [
    {
     "data": {
      "text/plain": [
       "False"
      ]
     },
     "execution_count": 30,
     "metadata": {},
     "output_type": "execute_result"
    }
   ],
   "source": [
    "def get_value(l, r, c):\n",
    "    return l[r][c]\n",
    "\n",
    "def find(l, x):\n",
    "    m = len(l) - 1\n",
    "    n = len(l[0]) - 1\n",
    "    r = 0\n",
    "    c = n\n",
    "    while c >= 0 and r <= m:\n",
    "        value = get_value(l, r, c)\n",
    "        if value == x:\n",
    "            return True\n",
    "        elif value > x:\n",
    "            c = c - 1\n",
    "        elif value < x:\n",
    "            r = r + 1\n",
    "    return False\n",
    "a = [[2,3,4,5,6],[3,4,5,6,7],[4,5,6,7,8]]\n",
    "find(a,9)"
   ]
  },
  {
   "cell_type": "code",
   "execution_count": 42,
   "metadata": {},
   "outputs": [
    {
     "name": "stdout",
     "output_type": "stream",
     "text": [
      "dict_keys(['b', 'c', 'd', 'a'])\n",
      "{'b': None, 'c': None, 'd': None, 'a': None}\n",
      "<built-in method index of list object at 0x7ff5f43c7a88>\n"
     ]
    }
   ],
   "source": [
    "l1 = ['b','c','d','b','c','a','a']\n",
    "l2 = {}.fromkeys(l1).keys()\n",
    "print(l2)\n",
    "a = {}.fromkeys(l1)\n",
    "print(a)\n",
    "print(l1.index)"
   ]
  },
  {
   "cell_type": "code",
   "execution_count": 55,
   "metadata": {},
   "outputs": [
    {
     "name": "stdout",
     "output_type": "stream",
     "text": [
      "[1, 2, 3, 4, 4, 5, 6, 6, 7, 7, 8, 9, 10, 11]\n"
     ]
    }
   ],
   "source": [
    "a = [1,2,3,4,5,6,7,10,11]\n",
    "b = [4,6,7,8,9]\n",
    "c = a+b\n",
    "print(sorted(c))"
   ]
  },
  {
   "cell_type": "code",
   "execution_count": 60,
   "metadata": {},
   "outputs": [
    {
     "name": "stdout",
     "output_type": "stream",
     "text": [
      "[1, 2, 3, 4, 4, 5, 6, 6, 7, 7, 8, 9, 10, 11]\n"
     ]
    }
   ],
   "source": [
    "a = [1,2,3,4,5,6,7,10,11]\n",
    "b = [4,6,7,8,9]\n",
    "c = []\n",
    "while a and b:\n",
    "    if a[0] <= b[0]:\n",
    "        c.append(a.pop(0))\n",
    "    else:\n",
    "        c.append(b.pop(0))\n",
    "while a:\n",
    "    c.append(a.pop(0))\n",
    "while b:\n",
    "    c.append(b.pop(0))\n",
    "    \n",
    "print(c)"
   ]
  },
  {
   "cell_type": "code",
   "execution_count": 66,
   "metadata": {},
   "outputs": [
    {
     "name": "stdout",
     "output_type": "stream",
     "text": [
      "6\n"
     ]
    }
   ],
   "source": [
    "#二分法查找\n",
    "a = [1,2,3,4,5,6,7,10,11]\n",
    "\n",
    "def fin(li,item):\n",
    "    low = 0 \n",
    "    height = len(a) - 1\n",
    "    while low<=height:\n",
    "        mid = int((low+height)/2)\n",
    "        guess = li[mid]\n",
    "        if guess < item:\n",
    "            low +=1\n",
    "        elif guess > item:\n",
    "            height -=1\n",
    "        else:\n",
    "            return mid\n",
    "    return None\n",
    "\n",
    "print(fin(a,7))"
   ]
  },
  {
   "cell_type": "code",
   "execution_count": null,
   "metadata": {},
   "outputs": [],
   "source": []
  }
 ],
 "metadata": {
  "kernelspec": {
   "display_name": "Python 3",
   "language": "python",
   "name": "python3"
  },
  "language_info": {
   "codemirror_mode": {
    "name": "ipython",
    "version": 3
   },
   "file_extension": ".py",
   "mimetype": "text/x-python",
   "name": "python",
   "nbconvert_exporter": "python",
   "pygments_lexer": "ipython3",
   "version": "3.6.5"
  }
 },
 "nbformat": 4,
 "nbformat_minor": 2
}
